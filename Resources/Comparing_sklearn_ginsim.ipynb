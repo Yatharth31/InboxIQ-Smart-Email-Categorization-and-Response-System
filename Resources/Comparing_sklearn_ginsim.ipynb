{
 "cells": [
  {
   "cell_type": "code",
   "execution_count": 1,
   "metadata": {},
   "outputs": [],
   "source": [
    "import os\n",
    "from collections import Counter\n",
    "from email.parser import Parser"
   ]
  },
  {
   "cell_type": "code",
   "execution_count": 2,
   "metadata": {},
   "outputs": [],
   "source": [
    "import codecs\n",
    "from time import time\n",
    "\n",
    "from gensim import corpora, models, similarities, logging\n"
   ]
  },
  {
   "cell_type": "code",
   "execution_count": 3,
   "metadata": {},
   "outputs": [],
   "source": [
    "rootdir = \"C:\\\\Users\\\\rohit\\\\Downloads\\\\enron_mail_20150507.tar\\\\enron_mail_20150507\\\\maildir\\\\lay-k\\\\\""
   ]
  },
  {
   "cell_type": "code",
   "execution_count": 4,
   "metadata": {},
   "outputs": [],
   "source": [
    "def email_analyse(inputfile, to_email_list,from_email_list,email_body):\n",
    "    with open(inputfile,\"r\") as f:\n",
    "        data=f.read()\n",
    "    \n",
    "    email = Parser().parsestr(data)\n",
    "    if email[\"to\"]:\n",
    "        \n",
    "\n",
    "        email_to = email['to']\n",
    "        email_to = email_to.replace(\"\\n\",\"\")\n",
    "        email_to = email_to.replace(\"\\t\",\"\")\n",
    "        email_to = email_to.replace(\" \",\"\")\n",
    "\n",
    "        email_to = email_to.split(\",\")\n",
    "\n",
    "        for i in email_to:\n",
    "            to_email_list.append(i)\n",
    "\n",
    "        from_email_list.append(email[\"from\"])\n",
    "        email_body.append(email.get_payload())"
   ]
  },
  {
   "cell_type": "code",
   "execution_count": 5,
   "metadata": {},
   "outputs": [],
   "source": [
    "to_email_list = list()\n",
    "from_email_list = list()\n",
    "email_body = list()"
   ]
  },
  {
   "cell_type": "code",
   "execution_count": 6,
   "metadata": {},
   "outputs": [],
   "source": [
    "for directory, subdirectory,filenames in os.walk(rootdir):\n",
    "    for filename in  filenames:\n",
    "        try:\n",
    "            email_analyse(os.path.join(directory,filename),to_email_list,from_email_list,email_body)\n",
    "        except:\n",
    "            print(os.path.join(directory,filename))"
   ]
  },
  {
   "cell_type": "code",
   "execution_count": 7,
   "metadata": {},
   "outputs": [],
   "source": [
    "for i in email_body:\n",
    "    email_body[email_body.index(i)] = i.replace(\"\\n\",\"\")"
   ]
  },
  {
   "cell_type": "code",
   "execution_count": 8,
   "metadata": {},
   "outputs": [],
   "source": [
    "dictionary = corpora.Dictionary(line.lower().split() for line in email_body)"
   ]
  },
  {
   "cell_type": "code",
   "execution_count": 9,
   "metadata": {},
   "outputs": [],
   "source": [
    "# Filter out the keywords that are only in the corpus once\n",
    "once_ids = [tokenid for tokenid,\n",
    "            docfreq in dictionary.dfs.items() if docfreq == 1]"
   ]
  },
  {
   "cell_type": "code",
   "execution_count": 10,
   "metadata": {},
   "outputs": [],
   "source": [
    "dictionary.filter_tokens(once_ids)"
   ]
  },
  {
   "cell_type": "code",
   "execution_count": 11,
   "metadata": {},
   "outputs": [],
   "source": [
    "dictionary.compactify()"
   ]
  },
  {
   "cell_type": "code",
   "execution_count": 12,
   "metadata": {},
   "outputs": [],
   "source": [
    "documents = (line.lower().split() for line in email_body)"
   ]
  },
  {
   "cell_type": "code",
   "execution_count": 13,
   "metadata": {},
   "outputs": [],
   "source": [
    "corpus = [dictionary.doc2bow(doc) for doc in documents]"
   ]
  },
  {
   "cell_type": "code",
   "execution_count": 14,
   "metadata": {},
   "outputs": [
    {
     "name": "stdout",
     "output_type": "stream",
     "text": [
      "Creating GenSim TF-IDF Model and Index\n"
     ]
    }
   ],
   "source": [
    "# Create TF-IDF\n",
    "\n",
    "print (\"Creating GenSim TF-IDF Model and Index\")\n",
    "tfidfModel = models.TfidfModel(corpus)\n",
    "tempCorpus = tfidfModel[corpus]"
   ]
  },
  {
   "cell_type": "code",
   "execution_count": 15,
   "metadata": {},
   "outputs": [],
   "source": [
    "tfidfIndex = similarities.MatrixSimilarity(tempCorpus)"
   ]
  },
  {
   "cell_type": "code",
   "execution_count": 16,
   "metadata": {},
   "outputs": [
    {
     "name": "stdout",
     "output_type": "stream",
     "text": [
      "Creating GenSim LSA Model and Index\n"
     ]
    }
   ],
   "source": [
    "# Create LSA\n",
    "print (\"Creating GenSim LSA Model and Index\")\n",
    "lsaModel = models.LsiModel(\n",
    "    corpus, id2word=dictionary, num_topics=300)\n",
    "tempCorpus = lsaModel[corpus]\n",
    "\n",
    "lsaIndex = similarities.MatrixSimilarity(tempCorpus)"
   ]
  },
  {
   "cell_type": "code",
   "execution_count": 17,
   "metadata": {},
   "outputs": [
    {
     "name": "stdout",
     "output_type": "stream",
     "text": [
      "Creating GenSim LDA Model and Index\n"
     ]
    }
   ],
   "source": [
    "# Create LDA\n",
    "print (\"Creating GenSim LDA Model and Index\")\n",
    "ldaModel = models.LdaModel(\n",
    "    corpus, id2word=dictionary, num_topics=300,\n",
    "    update_every=1, chunksize=2000, passes=5)\n",
    "tempCorpus = ldaModel[corpus]\n",
    "# Create Index\n",
    "ldaIndex = similarities.MatrixSimilarity(tempCorpus)"
   ]
  },
  {
   "cell_type": "code",
   "execution_count": null,
   "metadata": {},
   "outputs": [],
   "source": []
  }
 ],
 "metadata": {
  "interpreter": {
   "hash": "b3ba2566441a7c06988d0923437866b63cedc61552a5af99d1f4fb67d367b25f"
  },
  "kernelspec": {
   "display_name": "Python 3.8.5 ('base')",
   "language": "python",
   "name": "python3"
  },
  "language_info": {
   "codemirror_mode": {
    "name": "ipython",
    "version": 3
   },
   "file_extension": ".py",
   "mimetype": "text/x-python",
   "name": "python",
   "nbconvert_exporter": "python",
   "pygments_lexer": "ipython3",
   "version": "3.8.5"
  },
  "orig_nbformat": 4
 },
 "nbformat": 4,
 "nbformat_minor": 2
}
